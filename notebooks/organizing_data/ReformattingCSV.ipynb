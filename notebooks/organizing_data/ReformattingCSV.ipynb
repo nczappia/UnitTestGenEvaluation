{
 "cells": [
  {
   "cell_type": "markdown",
   "metadata": {},
   "source": [
    "### Reformatting All CSVs"
   ]
  },
  {
   "cell_type": "code",
   "execution_count": 1,
   "metadata": {},
   "outputs": [],
   "source": [
    "import pandas as pd\n",
    "import re\n",
    "\n",
    "def reformat(file):\n",
    "    # Step 1: Load the raw contents from the file\n",
    "    with open(file, 'r', encoding='utf-8') as f:\n",
    "        raw_text = f.read()\n",
    "\n",
    "    # Step 2: Split on the marker for a new code example\n",
    "    # We'll use a regex lookahead to keep the split marker (//Source method) with each example\n",
    "    examples = re.split(r'(?=\"\\/\\/Source method)', raw_text)\n",
    "\n",
    "    # Step 3: Clean up examples\n",
    "    cleaned_examples = [ex.strip().strip('\"') for ex in examples if ex.strip()]\n",
    "\n",
    "    # Step 4: Save to a DataFrame\n",
    "    df = pd.DataFrame(cleaned_examples, columns=['code'])\n",
    "\n",
    "    # Optional: save it back to a safe CSV format with full quoting\n",
    "    df.to_csv(f'{file[:-13]}responses_reformatted.csv', index=False, quoting=1)  # quoting=1 means quote all"
   ]
  },
  {
   "cell_type": "code",
   "execution_count": 3,
   "metadata": {},
   "outputs": [
    {
     "name": "stdout",
     "output_type": "stream",
     "text": [
      "['/media/mujtaba/DATA/nick/UnitTestExamples/data/results/DeepSeek-Coder-V2-Lite-Base__few_shot_first_prompts/responses.csv', '/media/mujtaba/DATA/nick/UnitTestExamples/data/results/DeepSeek-Coder-V2-Lite-Base__zero_shot_first_prompts/responses.csv', '/media/mujtaba/DATA/nick/UnitTestExamples/data/results/CodeLlama-7b-Instruct-hf__few_shot_first_prompts/responses.csv', '/media/mujtaba/DATA/nick/UnitTestExamples/data/results/starcoder2-3b__few_shot_first_prompts/responses.csv', '/media/mujtaba/DATA/nick/UnitTestExamples/data/results/CodeLlama-7b-Instruct-hf__zero_shot_first_prompts/responses.csv', '/media/mujtaba/DATA/nick/UnitTestExamples/data/results/starcoder2-3b__zero_shot_first_prompts/responses.csv']\n"
     ]
    }
   ],
   "source": [
    "files = []\n",
    "\n",
    "import os\n",
    "\n",
    "for file in os.listdir(\"/media/mujtaba/DATA/nick/UnitTestExamples/data/results\"):\n",
    "    if \"CodeLlama\" in file or \"starcoder\" in file or \"DeepSeek\" in file:\n",
    "        files.append('/' + file)\n",
    "\n",
    "files = [\"/media/mujtaba/DATA/nick/UnitTestExamples/data/results\" + file + '/responses.csv' for file in files]\n",
    "print(files)\n",
    "for file in files:\n",
    "    reformat(file)"
   ]
  },
  {
   "cell_type": "markdown",
   "metadata": {},
   "source": [
    "### Checking Loading"
   ]
  },
  {
   "cell_type": "code",
   "execution_count": 5,
   "metadata": {},
   "outputs": [
    {
     "data": {
      "text/plain": [
       "code    0\n",
       "Name: 0, dtype: object"
      ]
     },
     "execution_count": 5,
     "metadata": {},
     "output_type": "execute_result"
    }
   ],
   "source": [
    "df = pd.read_csv('/media/mujtaba/DATA/nick/UnitTestExamples/data/results/DeepSeek-Coder-V2-Lite-Base__zero_shot_first_prompts/responses_reformatted.csv', quoting=1)\n",
    "df.iloc[0]"
   ]
  },
  {
   "cell_type": "markdown",
   "metadata": {},
   "source": [
    "### Altering for CodeT5p"
   ]
  },
  {
   "cell_type": "code",
   "execution_count": 25,
   "metadata": {},
   "outputs": [],
   "source": [
    "import pandas as pd\n",
    "import re\n",
    "\n",
    "def reformat_codet5p(file):\n",
    "    # Load raw text from your file\n",
    "    with open('raw_code_file.csv', 'r', encoding='utf-8') as f:\n",
    "        raw_text = f.read()\n",
    "    \n",
    "    # Use regex to split between closing quote + newline + opening quote\n",
    "    # This pattern: quote, newline(s), then quote\n",
    "    examples = re.split(r'\"\\s*\\n\\s*\"', raw_text)\n",
    "    \n",
    "    # Clean leading/trailing quotes and whitespace\n",
    "    cleaned_examples = [ex.strip().strip('\"') for ex in examples if ex.strip()]\n",
    "    \n",
    "    # Step 4: Save to a DataFrame\n",
    "    df = pd.DataFrame(cleaned_examples, columns=['code'])\n",
    "\n",
    "    # Optional: save it back to a safe CSV format with full quoting\n",
    "    df.to_csv(f'{file[:-13]}responses_reformatted.csv', index=False, quoting=1)\n"
   ]
  },
  {
   "cell_type": "code",
   "execution_count": 26,
   "metadata": {},
   "outputs": [
    {
     "name": "stdout",
     "output_type": "stream",
     "text": [
      "['/media/mujtaba/DATA/nick/UnitTestExamples/data/results/codet5p-2b__few_shot_first_prompts/responses.csv', '/media/mujtaba/DATA/nick/UnitTestExamples/data/results/codet5p-2b__zero_shot_first_prompts/responses.csv']\n"
     ]
    }
   ],
   "source": [
    "files = []\n",
    "\n",
    "import os\n",
    "\n",
    "for file in os.listdir(\"/media/mujtaba/DATA/nick/UnitTestExamples/data/results\"):\n",
    "    if \"codet5p\" in file:\n",
    "        files.append('/' + file)\n",
    "\n",
    "files = [\"/media/mujtaba/DATA/nick/UnitTestExamples/data/results\" + file + '/responses.csv' for file in files]\n",
    "print(files)\n",
    "for file in files:\n",
    "    reformat(file)"
   ]
  },
  {
   "cell_type": "code",
   "execution_count": 10,
   "metadata": {},
   "outputs": [],
   "source": [
    "df = pd.read_csv(\"/media/mujtaba/DATA/nick/UnitTestExamples/data/results/codet5p-2b__few_shot_first_prompts/responses.csv\", quoting=1)"
   ]
  },
  {
   "cell_type": "code",
   "execution_count": 17,
   "metadata": {},
   "outputs": [
    {
     "data": {
      "text/plain": [
       "0      \\n        Solution s = new Solution();\\n      ...\n",
       "1      \\n        Solution s = new Solution();\\n      ...\n",
       "2      \\n        Solution s = new Solution();\\n      ...\n",
       "3      \\n        Solution s = new Solution();\\n      ...\n",
       "4      \\n        Solution s = new Solution();\\n      ...\n",
       "                             ...                        \n",
       "159    \\n        Solution s = new Solution();\\n      ...\n",
       "160    \\n        Solution s = new Solution();\\n      ...\n",
       "161    \\n        Solution s = new Solution();\\n      ...\n",
       "162    \\n        Solution s = new Solution();\\n      ...\n",
       "163    \\n        Solution s = new Solution();\\n      ...\n",
       "Name: 0, Length: 164, dtype: object"
      ]
     },
     "execution_count": 17,
     "metadata": {},
     "output_type": "execute_result"
    }
   ],
   "source": [
    "df['0']"
   ]
  },
  {
   "cell_type": "code",
   "execution_count": 20,
   "metadata": {},
   "outputs": [
    {
     "name": "stdout",
     "output_type": "stream",
     "text": [
      "✅ Trimmed code written to '/media/mujtaba/DATA/nick/UnitTestExamples/data/results/codet5p-2b__few_shot_first_prompts/responses_reformatted.csv'\n",
      "✅ Trimmed code written to '/media/mujtaba/DATA/nick/UnitTestExamples/data/results/codet5p-2b__zero_shot_first_prompts/responses_reformatted.csv'\n"
     ]
    }
   ],
   "source": [
    "import os\n",
    "import pandas as pd\n",
    "\n",
    "# === Define directories ===\n",
    "input_dir = \"/media/mujtaba/DATA/nick/UnitTestExamples/data/results\"\n",
    "output_dir = \"/media/mujtaba/DATA/nick/UnitTestExamples/data/results\"\n",
    "file_names = [\"codet5p-2b__few_shot_first_prompts/responses.csv\", \"codet5p-2b__zero_shot_first_prompts/responses.csv\"]  # Define the CSV filenames manually\n",
    "\n",
    "# === Function to trim when there are 2 extra closing brackets than opening ===\n",
    "def trim_code(code: str) -> str:\n",
    "    open_count = 0\n",
    "    close_count = 0\n",
    "\n",
    "    for i, char in enumerate(code):\n",
    "        if char == '{':\n",
    "            open_count += 1\n",
    "        elif char == '}':\n",
    "            close_count += 1\n",
    "\n",
    "        if close_count - open_count == 2:\n",
    "            return code[:i + 1].strip()\n",
    "\n",
    "    return code.strip()\n",
    "\n",
    "# === Ensure output directory exists ===\n",
    "os.makedirs(output_dir, exist_ok=True)\n",
    "\n",
    "# === Process each file ===\n",
    "for file_name in file_names:\n",
    "    input_path = os.path.join(input_dir, file_name)\n",
    "    output_path = os.path.join(output_dir, file_name[:-4] + \"_reformatted.csv\")\n",
    "\n",
    "    df = pd.read_csv(input_path, quoting=1)\n",
    "    df[\"code\"] = df[\"0\"].astype(str).apply(trim_code)\n",
    "    df[[\"code\"]].to_csv(output_path, index=False)\n",
    "    \n",
    "    print(f\"✅ Trimmed code written to '{output_path}'\")\n"
   ]
  }
 ],
 "metadata": {
  "kernelspec": {
   "display_name": "UnitTestGeneration",
   "language": "python",
   "name": "python3"
  },
  "language_info": {
   "codemirror_mode": {
    "name": "ipython",
    "version": 3
   },
   "file_extension": ".py",
   "mimetype": "text/x-python",
   "name": "python",
   "nbconvert_exporter": "python",
   "pygments_lexer": "ipython3",
   "version": "3.9.21"
  }
 },
 "nbformat": 4,
 "nbformat_minor": 2
}
